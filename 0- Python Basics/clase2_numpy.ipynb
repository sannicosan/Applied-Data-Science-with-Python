{
 "cells": [
  {
   "cell_type": "markdown",
   "metadata": {
    "colab_type": "text",
    "id": "c1P4p67Zitwx"
   },
   "source": [
    "# Numpy"
   ]
  },
  {
   "cell_type": "code",
   "execution_count": 1,
   "metadata": {
    "colab": {},
    "colab_type": "code",
    "id": "9rnQ4itmiw7D"
   },
   "outputs": [],
   "source": [
    "import numpy as np"
   ]
  },
  {
   "cell_type": "code",
   "execution_count": 2,
   "metadata": {
    "colab": {},
    "colab_type": "code",
    "id": "0w5A613wi6CY"
   },
   "outputs": [],
   "source": [
    "mi_lista = [1, 2, 3]"
   ]
  },
  {
   "cell_type": "code",
   "execution_count": 3,
   "metadata": {
    "colab": {
     "base_uri": "https://localhost:8080/",
     "height": 36
    },
    "colab_type": "code",
    "executionInfo": {
     "elapsed": 658,
     "status": "ok",
     "timestamp": 1565306713815,
     "user": {
      "displayName": "Inteligencia Artificial",
      "photoUrl": "",
      "userId": "11295742200522555660"
     },
     "user_tz": 240
    },
    "id": "llbLfTiUjKyX",
    "outputId": "4d6bb189-caa0-444c-f6ea-1ae5b352e19a"
   },
   "outputs": [
    {
     "data": {
      "text/plain": [
       "array([1, 2, 3])"
      ]
     },
     "execution_count": 3,
     "metadata": {},
     "output_type": "execute_result"
    }
   ],
   "source": [
    "np.array(mi_lista)"
   ]
  },
  {
   "cell_type": "code",
   "execution_count": 4,
   "metadata": {
    "colab": {},
    "colab_type": "code",
    "id": "iv-kwUY5jF6Q"
   },
   "outputs": [],
   "source": [
    "matrix = [ [1,2,3] , [4,5,6] , [7,8,9] ];"
   ]
  },
  {
   "cell_type": "code",
   "execution_count": 5,
   "metadata": {
    "colab": {
     "base_uri": "https://localhost:8080/",
     "height": 73
    },
    "colab_type": "code",
    "executionInfo": {
     "elapsed": 585,
     "status": "ok",
     "timestamp": 1565306816644,
     "user": {
      "displayName": "Inteligencia Artificial",
      "photoUrl": "",
      "userId": "11295742200522555660"
     },
     "user_tz": 240
    },
    "id": "lesiOAJ_jfW8",
    "outputId": "dc5d1dda-9217-4800-fd87-deeec83b86fb"
   },
   "outputs": [
    {
     "data": {
      "text/plain": [
       "array([[1, 2, 3],\n",
       "       [4, 5, 6],\n",
       "       [7, 8, 9]])"
      ]
     },
     "execution_count": 5,
     "metadata": {},
     "output_type": "execute_result"
    }
   ],
   "source": [
    "np.array(matrix)"
   ]
  },
  {
   "cell_type": "code",
   "execution_count": 6,
   "metadata": {
    "colab": {
     "base_uri": "https://localhost:8080/",
     "height": 36
    },
    "colab_type": "code",
    "executionInfo": {
     "elapsed": 709,
     "status": "ok",
     "timestamp": 1565306850338,
     "user": {
      "displayName": "Inteligencia Artificial",
      "photoUrl": "",
      "userId": "11295742200522555660"
     },
     "user_tz": 240
    },
    "id": "wxoJL3gujoWq",
    "outputId": "a507aa12-d2b0-43b8-fa5d-daaf72589f83"
   },
   "outputs": [
    {
     "data": {
      "text/plain": [
       "array([0, 1, 2, 3, 4, 5, 6, 7, 8, 9])"
      ]
     },
     "execution_count": 6,
     "metadata": {},
     "output_type": "execute_result"
    }
   ],
   "source": [
    "np.arange(0, 10)"
   ]
  },
  {
   "cell_type": "code",
   "execution_count": 7,
   "metadata": {
    "colab": {
     "base_uri": "https://localhost:8080/",
     "height": 36
    },
    "colab_type": "code",
    "executionInfo": {
     "elapsed": 674,
     "status": "ok",
     "timestamp": 1565306877682,
     "user": {
      "displayName": "Inteligencia Artificial",
      "photoUrl": "",
      "userId": "11295742200522555660"
     },
     "user_tz": 240
    },
    "id": "pQpayDUIju0K",
    "outputId": "8d1b51b5-b46c-4b94-b80f-ebb7b10e130c"
   },
   "outputs": [
    {
     "data": {
      "text/plain": [
       "array([ 0,  2,  4,  6,  8, 10])"
      ]
     },
     "execution_count": 7,
     "metadata": {},
     "output_type": "execute_result"
    }
   ],
   "source": [
    "np.arange(0, 11, 2)"
   ]
  },
  {
   "cell_type": "code",
   "execution_count": 8,
   "metadata": {
    "colab": {
     "base_uri": "https://localhost:8080/",
     "height": 36
    },
    "colab_type": "code",
    "executionInfo": {
     "elapsed": 698,
     "status": "ok",
     "timestamp": 1565306904774,
     "user": {
      "displayName": "Inteligencia Artificial",
      "photoUrl": "",
      "userId": "11295742200522555660"
     },
     "user_tz": 240
    },
    "id": "TyLJfgxSj3PH",
    "outputId": "2cb20f61-6c62-41cb-8238-745b66abbe58"
   },
   "outputs": [
    {
     "data": {
      "text/plain": [
       "array([0., 0., 0.])"
      ]
     },
     "execution_count": 8,
     "metadata": {},
     "output_type": "execute_result"
    }
   ],
   "source": [
    "np.zeros(3)"
   ]
  },
  {
   "cell_type": "code",
   "execution_count": 9,
   "metadata": {
    "colab": {
     "base_uri": "https://localhost:8080/",
     "height": 73
    },
    "colab_type": "code",
    "executionInfo": {
     "elapsed": 579,
     "status": "ok",
     "timestamp": 1565306929437,
     "user": {
      "displayName": "Inteligencia Artificial",
      "photoUrl": "",
      "userId": "11295742200522555660"
     },
     "user_tz": 240
    },
    "id": "VJoi15o3j8Vj",
    "outputId": "bb1df57c-bba7-4a94-c1cb-bdc47e77e106"
   },
   "outputs": [
    {
     "data": {
      "text/plain": [
       "array([[0., 0., 0.],\n",
       "       [0., 0., 0.],\n",
       "       [0., 0., 0.]])"
      ]
     },
     "execution_count": 9,
     "metadata": {},
     "output_type": "execute_result"
    }
   ],
   "source": [
    "np.zeros( (3,3) )"
   ]
  },
  {
   "cell_type": "code",
   "execution_count": 10,
   "metadata": {
    "colab": {
     "base_uri": "https://localhost:8080/",
     "height": 36
    },
    "colab_type": "code",
    "executionInfo": {
     "elapsed": 587,
     "status": "ok",
     "timestamp": 1565306951126,
     "user": {
      "displayName": "Inteligencia Artificial",
      "photoUrl": "",
      "userId": "11295742200522555660"
     },
     "user_tz": 240
    },
    "id": "36jHv7TpkD5G",
    "outputId": "bfcd8ca5-5623-4ca0-86fa-a0cd9903ae23"
   },
   "outputs": [
    {
     "data": {
      "text/plain": [
       "array([1., 1., 1.])"
      ]
     },
     "execution_count": 10,
     "metadata": {},
     "output_type": "execute_result"
    }
   ],
   "source": [
    "np.ones(3)"
   ]
  },
  {
   "cell_type": "code",
   "execution_count": 11,
   "metadata": {
    "colab": {
     "base_uri": "https://localhost:8080/",
     "height": 73
    },
    "colab_type": "code",
    "executionInfo": {
     "elapsed": 582,
     "status": "ok",
     "timestamp": 1565306969699,
     "user": {
      "displayName": "Inteligencia Artificial",
      "photoUrl": "",
      "userId": "11295742200522555660"
     },
     "user_tz": 240
    },
    "id": "_q3HT09QkJL2",
    "outputId": "098b2560-423b-46a1-c9b3-25ad96f27254"
   },
   "outputs": [
    {
     "data": {
      "text/plain": [
       "array([[1., 1., 1.],\n",
       "       [1., 1., 1.],\n",
       "       [1., 1., 1.]])"
      ]
     },
     "execution_count": 11,
     "metadata": {},
     "output_type": "execute_result"
    }
   ],
   "source": [
    "np.ones( (3,3) )"
   ]
  },
  {
   "cell_type": "code",
   "execution_count": 12,
   "metadata": {
    "colab": {
     "base_uri": "https://localhost:8080/",
     "height": 36
    },
    "colab_type": "code",
    "executionInfo": {
     "elapsed": 781,
     "status": "ok",
     "timestamp": 1565307004664,
     "user": {
      "displayName": "Inteligencia Artificial",
      "photoUrl": "",
      "userId": "11295742200522555660"
     },
     "user_tz": 240
    },
    "id": "j3r1C01AkNuF",
    "outputId": "699290de-4d6f-4698-ab7a-2e84daa59b02"
   },
   "outputs": [
    {
     "data": {
      "text/plain": [
       "array([ 0.,  5., 10.])"
      ]
     },
     "execution_count": 12,
     "metadata": {},
     "output_type": "execute_result"
    }
   ],
   "source": [
    "np.linspace(0, 10, 3)"
   ]
  },
  {
   "cell_type": "code",
   "execution_count": 13,
   "metadata": {
    "colab": {
     "base_uri": "https://localhost:8080/",
     "height": 203
    },
    "colab_type": "code",
    "executionInfo": {
     "elapsed": 567,
     "status": "ok",
     "timestamp": 1565307022981,
     "user": {
      "displayName": "Inteligencia Artificial",
      "photoUrl": "",
      "userId": "11295742200522555660"
     },
     "user_tz": 240
    },
    "id": "XPd7xjaukWNX",
    "outputId": "73262788-5ed9-42c4-824a-e092315f7f74"
   },
   "outputs": [
    {
     "data": {
      "text/plain": [
       "array([ 0.        ,  0.20408163,  0.40816327,  0.6122449 ,  0.81632653,\n",
       "        1.02040816,  1.2244898 ,  1.42857143,  1.63265306,  1.83673469,\n",
       "        2.04081633,  2.24489796,  2.44897959,  2.65306122,  2.85714286,\n",
       "        3.06122449,  3.26530612,  3.46938776,  3.67346939,  3.87755102,\n",
       "        4.08163265,  4.28571429,  4.48979592,  4.69387755,  4.89795918,\n",
       "        5.10204082,  5.30612245,  5.51020408,  5.71428571,  5.91836735,\n",
       "        6.12244898,  6.32653061,  6.53061224,  6.73469388,  6.93877551,\n",
       "        7.14285714,  7.34693878,  7.55102041,  7.75510204,  7.95918367,\n",
       "        8.16326531,  8.36734694,  8.57142857,  8.7755102 ,  8.97959184,\n",
       "        9.18367347,  9.3877551 ,  9.59183673,  9.79591837, 10.        ])"
      ]
     },
     "execution_count": 13,
     "metadata": {},
     "output_type": "execute_result"
    }
   ],
   "source": [
    "np.linspace(0, 10, 50)"
   ]
  },
  {
   "cell_type": "code",
   "execution_count": 14,
   "metadata": {
    "colab": {
     "base_uri": "https://localhost:8080/",
     "height": 91
    },
    "colab_type": "code",
    "executionInfo": {
     "elapsed": 869,
     "status": "ok",
     "timestamp": 1565307052927,
     "user": {
      "displayName": "Inteligencia Artificial",
      "photoUrl": "",
      "userId": "11295742200522555660"
     },
     "user_tz": 240
    },
    "id": "p6qUu9VMkaun",
    "outputId": "fd062af4-32ec-45dc-f43a-ab238e442574"
   },
   "outputs": [
    {
     "data": {
      "text/plain": [
       "array([[1., 0., 0., 0.],\n",
       "       [0., 1., 0., 0.],\n",
       "       [0., 0., 1., 0.],\n",
       "       [0., 0., 0., 1.]])"
      ]
     },
     "execution_count": 14,
     "metadata": {},
     "output_type": "execute_result"
    }
   ],
   "source": [
    "np.eye(4)"
   ]
  },
  {
   "cell_type": "markdown",
   "metadata": {
    "colab_type": "text",
    "id": "az-2FZpukmDF"
   },
   "source": [
    "# Random"
   ]
  },
  {
   "cell_type": "markdown",
   "metadata": {
    "colab_type": "text",
    "id": "C2FzCbJqku7Q"
   },
   "source": [
    "rand: genera entre [0, 1)"
   ]
  },
  {
   "cell_type": "code",
   "execution_count": 15,
   "metadata": {
    "colab": {
     "base_uri": "https://localhost:8080/",
     "height": 36
    },
    "colab_type": "code",
    "executionInfo": {
     "elapsed": 596,
     "status": "ok",
     "timestamp": 1565307094546,
     "user": {
      "displayName": "Inteligencia Artificial",
      "photoUrl": "",
      "userId": "11295742200522555660"
     },
     "user_tz": 240
    },
    "id": "KDfjV-XTkolG",
    "outputId": "94034891-c064-4105-b349-ad367075e677"
   },
   "outputs": [
    {
     "data": {
      "text/plain": [
       "array([0.32851486, 0.12790876])"
      ]
     },
     "execution_count": 15,
     "metadata": {},
     "output_type": "execute_result"
    }
   ],
   "source": [
    "np.random.rand(2)"
   ]
  },
  {
   "cell_type": "code",
   "execution_count": 16,
   "metadata": {
    "colab": {
     "base_uri": "https://localhost:8080/",
     "height": 110
    },
    "colab_type": "code",
    "executionInfo": {
     "elapsed": 593,
     "status": "ok",
     "timestamp": 1565307151229,
     "user": {
      "displayName": "Inteligencia Artificial",
      "photoUrl": "",
      "userId": "11295742200522555660"
     },
     "user_tz": 240
    },
    "id": "4NnoDfkTksMU",
    "outputId": "36f224c5-5432-4c09-b0c5-bc18a1317710"
   },
   "outputs": [
    {
     "data": {
      "text/plain": [
       "array([[0.54087439, 0.06175264, 0.59641398, 0.20734281, 0.95915456],\n",
       "       [0.25137802, 0.57241402, 0.99102494, 0.33613543, 0.06199658],\n",
       "       [0.76897325, 0.56911987, 0.18550821, 0.53653479, 0.82569906],\n",
       "       [0.61760156, 0.30320918, 0.13371558, 0.57552922, 0.29685323],\n",
       "       [0.24642151, 0.89015867, 0.93728917, 0.51754188, 0.95151218]])"
      ]
     },
     "execution_count": 16,
     "metadata": {},
     "output_type": "execute_result"
    }
   ],
   "source": [
    "np.random.rand(5,5)"
   ]
  },
  {
   "cell_type": "markdown",
   "metadata": {
    "colab_type": "text",
    "id": "M57beUPXk9Gv"
   },
   "source": [
    "randn: retorna los valores desde un distribucion normal estandar"
   ]
  },
  {
   "cell_type": "code",
   "execution_count": 17,
   "metadata": {
    "colab": {
     "base_uri": "https://localhost:8080/",
     "height": 36
    },
    "colab_type": "code",
    "executionInfo": {
     "elapsed": 552,
     "status": "ok",
     "timestamp": 1565307231614,
     "user": {
      "displayName": "Inteligencia Artificial",
      "photoUrl": "",
      "userId": "11295742200522555660"
     },
     "user_tz": 240
    },
    "id": "Kfzifsn7lIer",
    "outputId": "de7d19d1-15e9-4ac5-f6e0-3f4d11cfde9a"
   },
   "outputs": [
    {
     "data": {
      "text/plain": [
       "array([0.83587905, 0.09349848])"
      ]
     },
     "execution_count": 17,
     "metadata": {},
     "output_type": "execute_result"
    }
   ],
   "source": [
    "np.random.randn(2)"
   ]
  },
  {
   "cell_type": "code",
   "execution_count": 18,
   "metadata": {
    "colab": {
     "base_uri": "https://localhost:8080/",
     "height": 110
    },
    "colab_type": "code",
    "executionInfo": {
     "elapsed": 618,
     "status": "ok",
     "timestamp": 1565307246404,
     "user": {
      "displayName": "Inteligencia Artificial",
      "photoUrl": "",
      "userId": "11295742200522555660"
     },
     "user_tz": 240
    },
    "id": "d-icP5ZIlNqj",
    "outputId": "73de98ee-c9dd-4e07-9476-a12110a867bf"
   },
   "outputs": [
    {
     "data": {
      "text/plain": [
       "array([[0.7982954 , 0.59644824, 0.72838115, 0.1576935 , 0.77246303],\n",
       "       [0.20561768, 0.31473003, 0.23640383, 0.8375139 , 0.45127861],\n",
       "       [0.38333056, 0.34157117, 0.1197453 , 0.70357607, 0.95070338],\n",
       "       [0.72657231, 0.80912254, 0.33461181, 0.1034964 , 0.77126311],\n",
       "       [0.99901431, 0.71088963, 0.52382124, 0.69473358, 0.84896436]])"
      ]
     },
     "execution_count": 18,
     "metadata": {},
     "output_type": "execute_result"
    }
   ],
   "source": [
    "np.random.rand(5,5)"
   ]
  },
  {
   "cell_type": "markdown",
   "metadata": {
    "colab_type": "text",
    "id": "HkjqVDyalWXu"
   },
   "source": [
    "randint: generar valores aleatorios enteros entre un limite inferior y uno superior"
   ]
  },
  {
   "cell_type": "code",
   "execution_count": 19,
   "metadata": {
    "colab": {
     "base_uri": "https://localhost:8080/",
     "height": 36
    },
    "colab_type": "code",
    "executionInfo": {
     "elapsed": 726,
     "status": "ok",
     "timestamp": 1565307320079,
     "user": {
      "displayName": "Inteligencia Artificial",
      "photoUrl": "",
      "userId": "11295742200522555660"
     },
     "user_tz": 240
    },
    "id": "rRleDLJylfaV",
    "outputId": "fb6671e3-6912-4abd-fb92-6a98b787b49c"
   },
   "outputs": [
    {
     "data": {
      "text/plain": [
       "40"
      ]
     },
     "execution_count": 19,
     "metadata": {},
     "output_type": "execute_result"
    }
   ],
   "source": [
    "np.random.randint(1, 100)"
   ]
  },
  {
   "cell_type": "code",
   "execution_count": 20,
   "metadata": {
    "colab": {
     "base_uri": "https://localhost:8080/",
     "height": 36
    },
    "colab_type": "code",
    "executionInfo": {
     "elapsed": 601,
     "status": "ok",
     "timestamp": 1565307342479,
     "user": {
      "displayName": "Inteligencia Artificial",
      "photoUrl": "",
      "userId": "11295742200522555660"
     },
     "user_tz": 240
    },
    "id": "jsrXy_sSljN-",
    "outputId": "e637a5a5-22b0-418a-8289-f3f297fc6a05"
   },
   "outputs": [
    {
     "data": {
      "text/plain": [
       "array([23, 29, 30,  3, 69, 87, 77,  2, 14, 55])"
      ]
     },
     "execution_count": 20,
     "metadata": {},
     "output_type": "execute_result"
    }
   ],
   "source": [
    "np.random.randint(1, 100, 10)"
   ]
  },
  {
   "cell_type": "markdown",
   "metadata": {
    "colab_type": "text",
    "id": "j_DI_IZ0lvGv"
   },
   "source": [
    "# Metodos"
   ]
  },
  {
   "cell_type": "code",
   "execution_count": 21,
   "metadata": {
    "colab": {},
    "colab_type": "code",
    "id": "M30xHxbjlxYP"
   },
   "outputs": [
    {
     "ename": "SyntaxError",
     "evalue": "invalid syntax (<ipython-input-21-41c51824012b>, line 1)",
     "output_type": "error",
     "traceback": [
      "\u001b[1;36m  File \u001b[1;32m\"<ipython-input-21-41c51824012b>\"\u001b[1;36m, line \u001b[1;32m1\u001b[0m\n\u001b[1;33m    array([1 2 3 4 5 .. 24])\u001b[0m\n\u001b[1;37m             ^\u001b[0m\n\u001b[1;31mSyntaxError\u001b[0m\u001b[1;31m:\u001b[0m invalid syntax\n"
     ]
    }
   ],
   "source": [
    "array([1 2 3 4 5 .. 24])"
   ]
  },
  {
   "cell_type": "code",
   "execution_count": 22,
   "metadata": {
    "colab": {},
    "colab_type": "code",
    "id": "lJyVD1DJl8xd"
   },
   "outputs": [],
   "source": [
    "arr = np.arange(25)"
   ]
  },
  {
   "cell_type": "code",
   "execution_count": 23,
   "metadata": {
    "colab": {
     "base_uri": "https://localhost:8080/",
     "height": 54
    },
    "colab_type": "code",
    "executionInfo": {
     "elapsed": 631,
     "status": "ok",
     "timestamp": 1565307453861,
     "user": {
      "displayName": "Inteligencia Artificial",
      "photoUrl": "",
      "userId": "11295742200522555660"
     },
     "user_tz": 240
    },
    "id": "euvih0bmmC9w",
    "outputId": "2ccb3f20-9fe4-44f9-d064-f7043bf036f5"
   },
   "outputs": [
    {
     "data": {
      "text/plain": [
       "array([ 0,  1,  2,  3,  4,  5,  6,  7,  8,  9, 10, 11, 12, 13, 14, 15, 16,\n",
       "       17, 18, 19, 20, 21, 22, 23, 24])"
      ]
     },
     "execution_count": 23,
     "metadata": {},
     "output_type": "execute_result"
    }
   ],
   "source": [
    "arr"
   ]
  },
  {
   "cell_type": "markdown",
   "metadata": {
    "colab_type": "text",
    "id": "23V_65iVmGeB"
   },
   "source": [
    "reshape"
   ]
  },
  {
   "cell_type": "code",
   "execution_count": 64,
   "metadata": {
    "colab": {
     "base_uri": "https://localhost:8080/",
     "height": 110
    },
    "colab_type": "code",
    "executionInfo": {
     "elapsed": 610,
     "status": "ok",
     "timestamp": 1565307515002,
     "user": {
      "displayName": "Inteligencia Artificial",
      "photoUrl": "",
      "userId": "11295742200522555660"
     },
     "user_tz": 240
    },
    "id": "-xsbNCYRmKRU",
    "outputId": "aab6a4cc-df62-4652-9106-4a1701ba9cfa"
   },
   "outputs": [
    {
     "data": {
      "text/plain": [
       "array([[  0, 100, 100, 100, 100],\n",
       "       [  5,   6,   7,   8,   9],\n",
       "       [ 10,  11,  12,  13,  14],\n",
       "       [ 15,  16,  17,  18,  19],\n",
       "       [100,  21,  22,  23,  24]])"
      ]
     },
     "execution_count": 64,
     "metadata": {},
     "output_type": "execute_result"
    }
   ],
   "source": [
    "arr.reshape(5,5)"
   ]
  },
  {
   "cell_type": "code",
   "execution_count": 25,
   "metadata": {
    "colab": {},
    "colab_type": "code",
    "id": "nuMqw1jWmS1o"
   },
   "outputs": [],
   "source": [
    "arrrand = np.random.randint(0, 50, 10)"
   ]
  },
  {
   "cell_type": "code",
   "execution_count": 26,
   "metadata": {
    "colab": {
     "base_uri": "https://localhost:8080/",
     "height": 36
    },
    "colab_type": "code",
    "executionInfo": {
     "elapsed": 603,
     "status": "ok",
     "timestamp": 1565307585190,
     "user": {
      "displayName": "Inteligencia Artificial",
      "photoUrl": "",
      "userId": "11295742200522555660"
     },
     "user_tz": 240
    },
    "id": "x9GLTJo8miz9",
    "outputId": "cf344453-8e5f-48d7-eb7c-f715aa145357"
   },
   "outputs": [
    {
     "data": {
      "text/plain": [
       "array([44, 11, 44,  6, 10, 21, 22, 26,  1, 20])"
      ]
     },
     "execution_count": 26,
     "metadata": {},
     "output_type": "execute_result"
    }
   ],
   "source": [
    "arrrand"
   ]
  },
  {
   "cell_type": "code",
   "execution_count": 27,
   "metadata": {
    "colab": {
     "base_uri": "https://localhost:8080/",
     "height": 36
    },
    "colab_type": "code",
    "executionInfo": {
     "elapsed": 712,
     "status": "ok",
     "timestamp": 1565307611282,
     "user": {
      "displayName": "Inteligencia Artificial",
      "photoUrl": "",
      "userId": "11295742200522555660"
     },
     "user_tz": 240
    },
    "id": "ogbX-LlMmj-4",
    "outputId": "b0ec22a0-d500-4533-99a5-12497f3f52b4"
   },
   "outputs": [
    {
     "data": {
      "text/plain": [
       "1"
      ]
     },
     "execution_count": 27,
     "metadata": {},
     "output_type": "execute_result"
    }
   ],
   "source": [
    "arrrand.min()"
   ]
  },
  {
   "cell_type": "code",
   "execution_count": 28,
   "metadata": {
    "colab": {
     "base_uri": "https://localhost:8080/",
     "height": 36
    },
    "colab_type": "code",
    "executionInfo": {
     "elapsed": 621,
     "status": "ok",
     "timestamp": 1565307620328,
     "user": {
      "displayName": "Inteligencia Artificial",
      "photoUrl": "",
      "userId": "11295742200522555660"
     },
     "user_tz": 240
    },
    "id": "U40vUJSsmqUS",
    "outputId": "1cd3c607-38a4-4067-9390-bdaaded14aaa"
   },
   "outputs": [
    {
     "data": {
      "text/plain": [
       "44"
      ]
     },
     "execution_count": 28,
     "metadata": {},
     "output_type": "execute_result"
    }
   ],
   "source": [
    "arrrand.max()"
   ]
  },
  {
   "cell_type": "code",
   "execution_count": 29,
   "metadata": {
    "colab": {
     "base_uri": "https://localhost:8080/",
     "height": 36
    },
    "colab_type": "code",
    "executionInfo": {
     "elapsed": 758,
     "status": "ok",
     "timestamp": 1565307657575,
     "user": {
      "displayName": "Inteligencia Artificial",
      "photoUrl": "",
      "userId": "11295742200522555660"
     },
     "user_tz": 240
    },
    "id": "CdJD5Kc2msjJ",
    "outputId": "001a9264-66ae-442c-881c-f2e9315d95cb"
   },
   "outputs": [
    {
     "data": {
      "text/plain": [
       "(25,)"
      ]
     },
     "execution_count": 29,
     "metadata": {},
     "output_type": "execute_result"
    }
   ],
   "source": [
    "arr.shape"
   ]
  },
  {
   "cell_type": "code",
   "execution_count": 30,
   "metadata": {
    "colab": {
     "base_uri": "https://localhost:8080/",
     "height": 54
    },
    "colab_type": "code",
    "executionInfo": {
     "elapsed": 655,
     "status": "ok",
     "timestamp": 1565307732389,
     "user": {
      "displayName": "Inteligencia Artificial",
      "photoUrl": "",
      "userId": "11295742200522555660"
     },
     "user_tz": 240
    },
    "id": "CHXdkAkFm1nA",
    "outputId": "513346e9-a452-42ee-a4e6-adf322f83f38"
   },
   "outputs": [
    {
     "data": {
      "text/plain": [
       "array([[ 0,  1,  2,  3,  4,  5,  6,  7,  8,  9, 10, 11, 12, 13, 14, 15,\n",
       "        16, 17, 18, 19, 20, 21, 22, 23, 24]])"
      ]
     },
     "execution_count": 30,
     "metadata": {},
     "output_type": "execute_result"
    }
   ],
   "source": [
    "arr.reshape(1, 25)"
   ]
  },
  {
   "cell_type": "code",
   "execution_count": 31,
   "metadata": {
    "colab": {
     "base_uri": "https://localhost:8080/",
     "height": 36
    },
    "colab_type": "code",
    "executionInfo": {
     "elapsed": 665,
     "status": "ok",
     "timestamp": 1565307742573,
     "user": {
      "displayName": "Inteligencia Artificial",
      "photoUrl": "",
      "userId": "11295742200522555660"
     },
     "user_tz": 240
    },
    "id": "etpKOrQynH5a",
    "outputId": "25902c9e-8d99-4598-82ed-6195a1f1dc3f"
   },
   "outputs": [
    {
     "data": {
      "text/plain": [
       "(1, 25)"
      ]
     },
     "execution_count": 31,
     "metadata": {},
     "output_type": "execute_result"
    }
   ],
   "source": [
    "arr.reshape(1, 25).shape"
   ]
  },
  {
   "cell_type": "code",
   "execution_count": 32,
   "metadata": {
    "colab": {
     "base_uri": "https://localhost:8080/",
     "height": 36
    },
    "colab_type": "code",
    "executionInfo": {
     "elapsed": 875,
     "status": "ok",
     "timestamp": 1565307773253,
     "user": {
      "displayName": "Inteligencia Artificial",
      "photoUrl": "",
      "userId": "11295742200522555660"
     },
     "user_tz": 240
    },
    "id": "OeKj6kT-nKX1",
    "outputId": "231dd848-b5a9-4259-efb2-fd0836b34962"
   },
   "outputs": [
    {
     "data": {
      "text/plain": [
       "dtype('int32')"
      ]
     },
     "execution_count": 32,
     "metadata": {},
     "output_type": "execute_result"
    }
   ],
   "source": [
    "arr.dtype"
   ]
  },
  {
   "cell_type": "code",
   "execution_count": 33,
   "metadata": {
    "colab": {
     "base_uri": "https://localhost:8080/",
     "height": 54
    },
    "colab_type": "code",
    "executionInfo": {
     "elapsed": 586,
     "status": "ok",
     "timestamp": 1565307817753,
     "user": {
      "displayName": "Inteligencia Artificial",
      "photoUrl": "",
      "userId": "11295742200522555660"
     },
     "user_tz": 240
    },
    "id": "CqRyYfu9nR0o",
    "outputId": "aa06d1b6-fb7e-4314-ebf5-0afca00c2604"
   },
   "outputs": [
    {
     "data": {
      "text/plain": [
       "array([ 0,  1,  2,  3,  4,  5,  6,  7,  8,  9, 10, 11, 12, 13, 14, 15, 16,\n",
       "       17, 18, 19, 20, 21, 22, 23, 24])"
      ]
     },
     "execution_count": 33,
     "metadata": {},
     "output_type": "execute_result"
    }
   ],
   "source": [
    "arr"
   ]
  },
  {
   "cell_type": "code",
   "execution_count": 34,
   "metadata": {
    "colab": {
     "base_uri": "https://localhost:8080/",
     "height": 36
    },
    "colab_type": "code",
    "executionInfo": {
     "elapsed": 560,
     "status": "ok",
     "timestamp": 1565307837003,
     "user": {
      "displayName": "Inteligencia Artificial",
      "photoUrl": "",
      "userId": "11295742200522555660"
     },
     "user_tz": 240
    },
    "id": "3dkNGtpCncwH",
    "outputId": "f9e1f244-c6b1-4f96-8e98-a0848e8e701a"
   },
   "outputs": [
    {
     "data": {
      "text/plain": [
       "8"
      ]
     },
     "execution_count": 34,
     "metadata": {},
     "output_type": "execute_result"
    }
   ],
   "source": [
    "arr[8]"
   ]
  },
  {
   "cell_type": "code",
   "execution_count": 35,
   "metadata": {
    "colab": {
     "base_uri": "https://localhost:8080/",
     "height": 36
    },
    "colab_type": "code",
    "executionInfo": {
     "elapsed": 814,
     "status": "ok",
     "timestamp": 1565307868290,
     "user": {
      "displayName": "Inteligencia Artificial",
      "photoUrl": "",
      "userId": "11295742200522555660"
     },
     "user_tz": 240
    },
    "id": "1pd3HAxsnhdZ",
    "outputId": "3225c681-1075-4a9e-bbd2-4c16aa3815f8"
   },
   "outputs": [
    {
     "data": {
      "text/plain": [
       "array([1, 2, 3, 4])"
      ]
     },
     "execution_count": 35,
     "metadata": {},
     "output_type": "execute_result"
    }
   ],
   "source": [
    "arr[1:5]"
   ]
  },
  {
   "cell_type": "code",
   "execution_count": 36,
   "metadata": {
    "colab": {
     "base_uri": "https://localhost:8080/",
     "height": 36
    },
    "colab_type": "code",
    "executionInfo": {
     "elapsed": 631,
     "status": "ok",
     "timestamp": 1565307948867,
     "user": {
      "displayName": "Inteligencia Artificial",
      "photoUrl": "",
      "userId": "11295742200522555660"
     },
     "user_tz": 240
    },
    "id": "QOHdfSN2npCK",
    "outputId": "6c848fd9-abca-41a9-c3eb-63c7f7f08958"
   },
   "outputs": [
    {
     "data": {
      "text/plain": [
       "array([18, 19, 20, 21, 22, 23, 24])"
      ]
     },
     "execution_count": 36,
     "metadata": {},
     "output_type": "execute_result"
    }
   ],
   "source": [
    "arr[18:25]"
   ]
  },
  {
   "cell_type": "code",
   "execution_count": 37,
   "metadata": {
    "colab": {
     "base_uri": "https://localhost:8080/",
     "height": 36
    },
    "colab_type": "code",
    "executionInfo": {
     "elapsed": 554,
     "status": "ok",
     "timestamp": 1565307977432,
     "user": {
      "displayName": "Inteligencia Artificial",
      "photoUrl": "",
      "userId": "11295742200522555660"
     },
     "user_tz": 240
    },
    "id": "cjXb8yBvn7Ot",
    "outputId": "9527d0b9-f087-4e7c-8116-ee5feee8dd29"
   },
   "outputs": [
    {
     "data": {
      "text/plain": [
       "array([18, 19, 20, 21, 22, 23, 24])"
      ]
     },
     "execution_count": 37,
     "metadata": {},
     "output_type": "execute_result"
    }
   ],
   "source": [
    "arr[18:]"
   ]
  },
  {
   "cell_type": "code",
   "execution_count": 38,
   "metadata": {
    "colab": {},
    "colab_type": "code",
    "id": "iT6rzFZXoDv0"
   },
   "outputs": [],
   "source": [
    "arr[20] = 100"
   ]
  },
  {
   "cell_type": "code",
   "execution_count": 39,
   "metadata": {
    "colab": {
     "base_uri": "https://localhost:8080/",
     "height": 54
    },
    "colab_type": "code",
    "executionInfo": {
     "elapsed": 810,
     "status": "ok",
     "timestamp": 1565307997008,
     "user": {
      "displayName": "Inteligencia Artificial",
      "photoUrl": "",
      "userId": "11295742200522555660"
     },
     "user_tz": 240
    },
    "id": "lRghbcvLoHme",
    "outputId": "10d18f9d-5548-4430-e795-e07b6ac2166e"
   },
   "outputs": [
    {
     "data": {
      "text/plain": [
       "array([  0,   1,   2,   3,   4,   5,   6,   7,   8,   9,  10,  11,  12,\n",
       "        13,  14,  15,  16,  17,  18,  19, 100,  21,  22,  23,  24])"
      ]
     },
     "execution_count": 39,
     "metadata": {},
     "output_type": "execute_result"
    }
   ],
   "source": [
    "arr"
   ]
  },
  {
   "cell_type": "code",
   "execution_count": 40,
   "metadata": {
    "colab": {},
    "colab_type": "code",
    "id": "qZK10kjwoIeO"
   },
   "outputs": [],
   "source": [
    "arr[1:5] = 100"
   ]
  },
  {
   "cell_type": "code",
   "execution_count": 41,
   "metadata": {
    "colab": {
     "base_uri": "https://localhost:8080/",
     "height": 54
    },
    "colab_type": "code",
    "executionInfo": {
     "elapsed": 555,
     "status": "ok",
     "timestamp": 1565308019021,
     "user": {
      "displayName": "Inteligencia Artificial",
      "photoUrl": "",
      "userId": "11295742200522555660"
     },
     "user_tz": 240
    },
    "id": "iePbY_kDoNSs",
    "outputId": "5d176228-902f-445a-b5ce-b88a7eccf237"
   },
   "outputs": [
    {
     "data": {
      "text/plain": [
       "array([  0, 100, 100, 100, 100,   5,   6,   7,   8,   9,  10,  11,  12,\n",
       "        13,  14,  15,  16,  17,  18,  19, 100,  21,  22,  23,  24])"
      ]
     },
     "execution_count": 41,
     "metadata": {},
     "output_type": "execute_result"
    }
   ],
   "source": [
    "arr"
   ]
  },
  {
   "cell_type": "code",
   "execution_count": 42,
   "metadata": {
    "colab": {},
    "colab_type": "code",
    "id": "d3GXfxB6oN5p"
   },
   "outputs": [],
   "source": [
    "matriz1 = np.array( ([5, 10, 15], [20, 12, 17], [54,56,9]) )"
   ]
  },
  {
   "cell_type": "code",
   "execution_count": 43,
   "metadata": {
    "colab": {
     "base_uri": "https://localhost:8080/",
     "height": 73
    },
    "colab_type": "code",
    "executionInfo": {
     "elapsed": 570,
     "status": "ok",
     "timestamp": 1565308098526,
     "user": {
      "displayName": "Inteligencia Artificial",
      "photoUrl": "",
      "userId": "11295742200522555660"
     },
     "user_tz": 240
    },
    "id": "qaKJejulogU5",
    "outputId": "b7344c08-fd7c-4cc2-f046-2259f93cea34"
   },
   "outputs": [
    {
     "data": {
      "text/plain": [
       "array([[ 5, 10, 15],\n",
       "       [20, 12, 17],\n",
       "       [54, 56,  9]])"
      ]
     },
     "execution_count": 43,
     "metadata": {},
     "output_type": "execute_result"
    }
   ],
   "source": [
    "matriz1"
   ]
  },
  {
   "cell_type": "code",
   "execution_count": 44,
   "metadata": {
    "colab": {
     "base_uri": "https://localhost:8080/",
     "height": 36
    },
    "colab_type": "code",
    "executionInfo": {
     "elapsed": 585,
     "status": "ok",
     "timestamp": 1565308111303,
     "user": {
      "displayName": "Inteligencia Artificial",
      "photoUrl": "",
      "userId": "11295742200522555660"
     },
     "user_tz": 240
    },
    "id": "elmUs-7JohUP",
    "outputId": "0041e2a0-b46a-4d64-f0a7-9a01e2c306d6"
   },
   "outputs": [
    {
     "data": {
      "text/plain": [
       "array([20, 12, 17])"
      ]
     },
     "execution_count": 44,
     "metadata": {},
     "output_type": "execute_result"
    }
   ],
   "source": [
    "matriz1[1]"
   ]
  },
  {
   "cell_type": "code",
   "execution_count": 45,
   "metadata": {
    "colab": {
     "base_uri": "https://localhost:8080/",
     "height": 36
    },
    "colab_type": "code",
    "executionInfo": {
     "elapsed": 625,
     "status": "ok",
     "timestamp": 1565308146332,
     "user": {
      "displayName": "Inteligencia Artificial",
      "photoUrl": "",
      "userId": "11295742200522555660"
     },
     "user_tz": 240
    },
    "id": "WO6Fmmkhoka2",
    "outputId": "ac0c9f85-70b3-4fd5-9e90-672c873a7e02"
   },
   "outputs": [
    {
     "data": {
      "text/plain": [
       "17"
      ]
     },
     "execution_count": 45,
     "metadata": {},
     "output_type": "execute_result"
    }
   ],
   "source": [
    "matriz1[1][2]"
   ]
  },
  {
   "cell_type": "markdown",
   "metadata": {
    "colab_type": "text",
    "id": "IeF82gvhoyMl"
   },
   "source": [
    "# Operaciones"
   ]
  },
  {
   "cell_type": "code",
   "execution_count": 46,
   "metadata": {
    "colab": {},
    "colab_type": "code",
    "id": "1oWtd2-2pPrw"
   },
   "outputs": [],
   "source": [
    "vector = np.arange(0, 10)"
   ]
  },
  {
   "cell_type": "code",
   "execution_count": 47,
   "metadata": {
    "colab": {
     "base_uri": "https://localhost:8080/",
     "height": 36
    },
    "colab_type": "code",
    "executionInfo": {
     "elapsed": 455,
     "status": "ok",
     "timestamp": 1565308325305,
     "user": {
      "displayName": "Inteligencia Artificial",
      "photoUrl": "",
      "userId": "11295742200522555660"
     },
     "user_tz": 240
    },
    "id": "HWigXlBspVZ2",
    "outputId": "11bc54b3-3aea-4dc9-ef62-640ae86c5520"
   },
   "outputs": [
    {
     "data": {
      "text/plain": [
       "array([ 0,  2,  4,  6,  8, 10, 12, 14, 16, 18])"
      ]
     },
     "execution_count": 47,
     "metadata": {},
     "output_type": "execute_result"
    }
   ],
   "source": [
    "vector + vector"
   ]
  },
  {
   "cell_type": "code",
   "execution_count": 48,
   "metadata": {
    "colab": {
     "base_uri": "https://localhost:8080/",
     "height": 36
    },
    "colab_type": "code",
    "executionInfo": {
     "elapsed": 572,
     "status": "ok",
     "timestamp": 1565308329963,
     "user": {
      "displayName": "Inteligencia Artificial",
      "photoUrl": "",
      "userId": "11295742200522555660"
     },
     "user_tz": 240
    },
    "id": "nOfx0PEGpYsb",
    "outputId": "6407f6b3-6668-4441-bdf4-598fabe0fbb4"
   },
   "outputs": [
    {
     "data": {
      "text/plain": [
       "array([0, 1, 2, 3, 4, 5, 6, 7, 8, 9])"
      ]
     },
     "execution_count": 48,
     "metadata": {},
     "output_type": "execute_result"
    }
   ],
   "source": [
    "vector"
   ]
  },
  {
   "cell_type": "code",
   "execution_count": 49,
   "metadata": {
    "colab": {
     "base_uri": "https://localhost:8080/",
     "height": 36
    },
    "colab_type": "code",
    "executionInfo": {
     "elapsed": 580,
     "status": "ok",
     "timestamp": 1565308350888,
     "user": {
      "displayName": "Inteligencia Artificial",
      "photoUrl": "",
      "userId": "11295742200522555660"
     },
     "user_tz": 240
    },
    "id": "djg_RCHspZzt",
    "outputId": "d1a13874-ed10-4941-e2c3-395337134ad4"
   },
   "outputs": [
    {
     "data": {
      "text/plain": [
       "array([ 0,  1,  4,  9, 16, 25, 36, 49, 64, 81])"
      ]
     },
     "execution_count": 49,
     "metadata": {},
     "output_type": "execute_result"
    }
   ],
   "source": [
    "vector*vector"
   ]
  },
  {
   "cell_type": "code",
   "execution_count": 50,
   "metadata": {
    "colab": {
     "base_uri": "https://localhost:8080/",
     "height": 36
    },
    "colab_type": "code",
    "executionInfo": {
     "elapsed": 603,
     "status": "ok",
     "timestamp": 1565308374197,
     "user": {
      "displayName": "Inteligencia Artificial",
      "photoUrl": "",
      "userId": "11295742200522555660"
     },
     "user_tz": 240
    },
    "id": "-1ooScnGpe6f",
    "outputId": "81244856-fa49-4e0d-cec9-eac95f59a561"
   },
   "outputs": [
    {
     "data": {
      "text/plain": [
       "array([0, 0, 0, 0, 0, 0, 0, 0, 0, 0])"
      ]
     },
     "execution_count": 50,
     "metadata": {},
     "output_type": "execute_result"
    }
   ],
   "source": [
    "vector - vector"
   ]
  },
  {
   "cell_type": "code",
   "execution_count": 51,
   "metadata": {
    "colab": {
     "base_uri": "https://localhost:8080/",
     "height": 36
    },
    "colab_type": "code",
    "executionInfo": {
     "elapsed": 597,
     "status": "ok",
     "timestamp": 1565308414843,
     "user": {
      "displayName": "Inteligencia Artificial",
      "photoUrl": "",
      "userId": "11295742200522555660"
     },
     "user_tz": 240
    },
    "id": "ss2RKFAnpkl-",
    "outputId": "2742c2fc-20f4-48f6-bd5a-7df15a48fa12"
   },
   "outputs": [
    {
     "data": {
      "text/plain": [
       "array([ 0,  1,  4,  9, 16, 25, 36, 49, 64, 81], dtype=int32)"
      ]
     },
     "execution_count": 51,
     "metadata": {},
     "output_type": "execute_result"
    }
   ],
   "source": [
    "vector**2"
   ]
  },
  {
   "cell_type": "code",
   "execution_count": 52,
   "metadata": {
    "colab": {
     "base_uri": "https://localhost:8080/",
     "height": 54
    },
    "colab_type": "code",
    "executionInfo": {
     "elapsed": 652,
     "status": "ok",
     "timestamp": 1565308434033,
     "user": {
      "displayName": "Inteligencia Artificial",
      "photoUrl": "",
      "userId": "11295742200522555660"
     },
     "user_tz": 240
    },
    "id": "9hlPhceopuhp",
    "outputId": "1be7890b-c881-4828-d73d-7263a61fbcba"
   },
   "outputs": [
    {
     "data": {
      "text/plain": [
       "array([0.        , 1.        , 1.41421356, 1.73205081, 2.        ,\n",
       "       2.23606798, 2.44948974, 2.64575131, 2.82842712, 3.        ])"
      ]
     },
     "execution_count": 52,
     "metadata": {},
     "output_type": "execute_result"
    }
   ],
   "source": [
    "np.sqrt(vector)"
   ]
  },
  {
   "cell_type": "code",
   "execution_count": 53,
   "metadata": {
    "colab": {
     "base_uri": "https://localhost:8080/",
     "height": 73
    },
    "colab_type": "code",
    "executionInfo": {
     "elapsed": 776,
     "status": "ok",
     "timestamp": 1565308447478,
     "user": {
      "displayName": "Inteligencia Artificial",
      "photoUrl": "",
      "userId": "11295742200522555660"
     },
     "user_tz": 240
    },
    "id": "FwidJSzLpzMf",
    "outputId": "8a66a4eb-8647-4a8d-8960-bb776dbec36e"
   },
   "outputs": [
    {
     "data": {
      "text/plain": [
       "array([1.00000000e+00, 2.71828183e+00, 7.38905610e+00, 2.00855369e+01,\n",
       "       5.45981500e+01, 1.48413159e+02, 4.03428793e+02, 1.09663316e+03,\n",
       "       2.98095799e+03, 8.10308393e+03])"
      ]
     },
     "execution_count": 53,
     "metadata": {},
     "output_type": "execute_result"
    }
   ],
   "source": [
    "np.exp(vector)"
   ]
  },
  {
   "cell_type": "code",
   "execution_count": 54,
   "metadata": {
    "colab": {
     "base_uri": "https://localhost:8080/",
     "height": 36
    },
    "colab_type": "code",
    "executionInfo": {
     "elapsed": 604,
     "status": "ok",
     "timestamp": 1565308463359,
     "user": {
      "displayName": "Inteligencia Artificial",
      "photoUrl": "",
      "userId": "11295742200522555660"
     },
     "user_tz": 240
    },
    "id": "2pvioQISp2cm",
    "outputId": "6cd4933a-55ed-4755-e81b-636dd8ebb097"
   },
   "outputs": [
    {
     "data": {
      "text/plain": [
       "9"
      ]
     },
     "execution_count": 54,
     "metadata": {},
     "output_type": "execute_result"
    }
   ],
   "source": [
    "np.max(vector)"
   ]
  }
 ],
 "metadata": {
  "colab": {
   "name": "Untitled0.ipynb",
   "provenance": [],
   "version": "0.3.2"
  },
  "kernelspec": {
   "display_name": "Python 3",
   "language": "python",
   "name": "python3"
  },
  "language_info": {
   "codemirror_mode": {
    "name": "ipython",
    "version": 3
   },
   "file_extension": ".py",
   "mimetype": "text/x-python",
   "name": "python",
   "nbconvert_exporter": "python",
   "pygments_lexer": "ipython3",
   "version": "3.5.6"
  }
 },
 "nbformat": 4,
 "nbformat_minor": 1
}
