{
 "cells": [
  {
   "cell_type": "markdown",
   "metadata": {},
   "source": [
    "---\n",
    "\n",
    "_You are currently looking at **version 1.1** of this notebook. To download notebooks and datafiles, as well as get help on Jupyter notebooks in the Coursera platform, visit the [Jupyter Notebook FAQ](https://www.coursera.org/learn/python-text-mining/resources/d9pwm) course resource._\n",
    "\n",
    "---"
   ]
  },
  {
   "cell_type": "markdown",
   "metadata": {},
   "source": [
    "# Assignment 3\n",
    "\n",
    "In this assignment you will explore text message data and create models to predict if a message is spam or not. "
   ]
  },
  {
   "cell_type": "code",
   "execution_count": 1,
   "metadata": {},
   "outputs": [
    {
     "data": {
      "text/html": [
       "<div>\n",
       "<style>\n",
       "    .dataframe thead tr:only-child th {\n",
       "        text-align: right;\n",
       "    }\n",
       "\n",
       "    .dataframe thead th {\n",
       "        text-align: left;\n",
       "    }\n",
       "\n",
       "    .dataframe tbody tr th {\n",
       "        vertical-align: top;\n",
       "    }\n",
       "</style>\n",
       "<table border=\"1\" class=\"dataframe\">\n",
       "  <thead>\n",
       "    <tr style=\"text-align: right;\">\n",
       "      <th></th>\n",
       "      <th>text</th>\n",
       "      <th>target</th>\n",
       "    </tr>\n",
       "  </thead>\n",
       "  <tbody>\n",
       "    <tr>\n",
       "      <th>0</th>\n",
       "      <td>Go until jurong point, crazy.. Available only ...</td>\n",
       "      <td>0</td>\n",
       "    </tr>\n",
       "    <tr>\n",
       "      <th>1</th>\n",
       "      <td>Ok lar... Joking wif u oni...</td>\n",
       "      <td>0</td>\n",
       "    </tr>\n",
       "    <tr>\n",
       "      <th>2</th>\n",
       "      <td>Free entry in 2 a wkly comp to win FA Cup fina...</td>\n",
       "      <td>1</td>\n",
       "    </tr>\n",
       "    <tr>\n",
       "      <th>3</th>\n",
       "      <td>U dun say so early hor... U c already then say...</td>\n",
       "      <td>0</td>\n",
       "    </tr>\n",
       "    <tr>\n",
       "      <th>4</th>\n",
       "      <td>Nah I don't think he goes to usf, he lives aro...</td>\n",
       "      <td>0</td>\n",
       "    </tr>\n",
       "    <tr>\n",
       "      <th>5</th>\n",
       "      <td>FreeMsg Hey there darling it's been 3 week's n...</td>\n",
       "      <td>1</td>\n",
       "    </tr>\n",
       "    <tr>\n",
       "      <th>6</th>\n",
       "      <td>Even my brother is not like to speak with me. ...</td>\n",
       "      <td>0</td>\n",
       "    </tr>\n",
       "    <tr>\n",
       "      <th>7</th>\n",
       "      <td>As per your request 'Melle Melle (Oru Minnamin...</td>\n",
       "      <td>0</td>\n",
       "    </tr>\n",
       "    <tr>\n",
       "      <th>8</th>\n",
       "      <td>WINNER!! As a valued network customer you have...</td>\n",
       "      <td>1</td>\n",
       "    </tr>\n",
       "    <tr>\n",
       "      <th>9</th>\n",
       "      <td>Had your mobile 11 months or more? U R entitle...</td>\n",
       "      <td>1</td>\n",
       "    </tr>\n",
       "  </tbody>\n",
       "</table>\n",
       "</div>"
      ],
      "text/plain": [
       "                                                text  target\n",
       "0  Go until jurong point, crazy.. Available only ...       0\n",
       "1                      Ok lar... Joking wif u oni...       0\n",
       "2  Free entry in 2 a wkly comp to win FA Cup fina...       1\n",
       "3  U dun say so early hor... U c already then say...       0\n",
       "4  Nah I don't think he goes to usf, he lives aro...       0\n",
       "5  FreeMsg Hey there darling it's been 3 week's n...       1\n",
       "6  Even my brother is not like to speak with me. ...       0\n",
       "7  As per your request 'Melle Melle (Oru Minnamin...       0\n",
       "8  WINNER!! As a valued network customer you have...       1\n",
       "9  Had your mobile 11 months or more? U R entitle...       1"
      ]
     },
     "execution_count": 1,
     "metadata": {},
     "output_type": "execute_result"
    }
   ],
   "source": [
    "import pandas as pd\n",
    "import numpy as np\n",
    "\n",
    "spam_data = pd.read_csv('spam.csv')\n",
    "\n",
    "spam_data['target'] = np.where(spam_data['target']=='spam',1,0)\n",
    "spam_data.head(10)"
   ]
  },
  {
   "cell_type": "code",
   "execution_count": 2,
   "metadata": {
    "collapsed": true
   },
   "outputs": [],
   "source": [
    "from sklearn.model_selection import train_test_split\n",
    "\n",
    "\n",
    "X_train, X_test, y_train, y_test = train_test_split(spam_data['text'], \n",
    "                                                    spam_data['target'], \n",
    "                                                    random_state=0)"
   ]
  },
  {
   "cell_type": "markdown",
   "metadata": {},
   "source": [
    "### Question 1\n",
    "What percentage of the documents in `spam_data` are spam?\n",
    "\n",
    "*This function should return a float, the percent value (i.e. $ratio * 100$).*"
   ]
  },
  {
   "cell_type": "code",
   "execution_count": 3,
   "metadata": {
    "collapsed": true
   },
   "outputs": [],
   "source": [
    "def answer_one():\n",
    "    \n",
    "    return spam_data['target'].mean()*100"
   ]
  },
  {
   "cell_type": "code",
   "execution_count": 4,
   "metadata": {},
   "outputs": [
    {
     "data": {
      "text/plain": [
       "13.406317300789663"
      ]
     },
     "execution_count": 4,
     "metadata": {},
     "output_type": "execute_result"
    }
   ],
   "source": [
    "answer_one()"
   ]
  },
  {
   "cell_type": "markdown",
   "metadata": {},
   "source": [
    "### Question 2\n",
    "\n",
    "Fit the training data `X_train` using a Count Vectorizer with default parameters.\n",
    "\n",
    "What is the longest token in the vocabulary?\n",
    "\n",
    "*This function should return a string.*"
   ]
  },
  {
   "cell_type": "code",
   "execution_count": 5,
   "metadata": {
    "collapsed": true
   },
   "outputs": [],
   "source": [
    "from sklearn.feature_extraction.text import CountVectorizer\n",
    "\n",
    "def answer_two():\n",
    "    \n",
    "    # Extracts the tokens of the text (vocabulary as list)\n",
    "    tokens = CountVectorizer().fit(X_train)\n",
    "    \n",
    "    # Creates matrix with texts as rows (records) and tokens as columns (features)\n",
    "    X_train_tokenized = tokens.transform(X_train)\n",
    "    \n",
    "    return max(tokens.get_feature_names(),key = len)"
   ]
  },
  {
   "cell_type": "code",
   "execution_count": 6,
   "metadata": {},
   "outputs": [
    {
     "data": {
      "text/plain": [
       "'com1win150ppmx3age16subscription'"
      ]
     },
     "execution_count": 6,
     "metadata": {},
     "output_type": "execute_result"
    }
   ],
   "source": [
    "answer_two()"
   ]
  },
  {
   "cell_type": "markdown",
   "metadata": {},
   "source": [
    "### Question 3\n",
    "\n",
    "Fit and transform the training data `X_train` using a Count Vectorizer with default parameters.\n",
    "\n",
    "Next, fit a fit a multinomial Naive Bayes classifier model with smoothing `alpha=0.1`. Find the area under the curve (AUC) score using the transformed test data.\n",
    "\n",
    "*This function should return the AUC score as a float.*"
   ]
  },
  {
   "cell_type": "code",
   "execution_count": 7,
   "metadata": {
    "collapsed": true
   },
   "outputs": [],
   "source": [
    "from sklearn.naive_bayes import MultinomialNB\n",
    "from sklearn.metrics import roc_auc_score\n",
    "\n",
    "def answer_three():\n",
    "    \n",
    "    # Extracts the tokens of the text (vocabulary as list)\n",
    "    tokens = CountVectorizer().fit(X_train)\n",
    "    \n",
    "    # Creates matrix with texts as rows (records) and tokens as columns (features)\n",
    "    X_train_tokenized = tokens.transform(X_train)\n",
    "    \n",
    "    # Model Fitting\n",
    "    clf = MultinomialNB(alpha=0.1)\n",
    "    clf.fit(X_train_tokenized,y_train)\n",
    "    \n",
    "    y_predicted = clf.predict(tokens.transform(X_test))\n",
    "    \n",
    "    return roc_auc_score(y_test,y_predicted)"
   ]
  },
  {
   "cell_type": "code",
   "execution_count": 8,
   "metadata": {},
   "outputs": [
    {
     "data": {
      "text/plain": [
       "0.97208121827411165"
      ]
     },
     "execution_count": 8,
     "metadata": {},
     "output_type": "execute_result"
    }
   ],
   "source": [
    "answer_three()"
   ]
  },
  {
   "cell_type": "markdown",
   "metadata": {},
   "source": [
    "### Question 4\n",
    "\n",
    "Fit and transform the training data `X_train` using a Tfidf Vectorizer with default parameters.\n",
    "\n",
    "What 20 features have the smallest tf-idf and what 20 have the largest tf-idf?\n",
    "\n",
    "Put these features in a two series where each series is sorted by tf-idf value and then alphabetically by feature name. The index of the series should be the feature name, and the data should be the tf-idf.\n",
    "\n",
    "The series of 20 features with smallest tf-idfs should be sorted smallest tfidf first, the list of 20 features with largest tf-idfs should be sorted largest first. \n",
    "\n",
    "*This function should return a tuple of two series\n",
    "`(smallest tf-idfs series, largest tf-idfs series)`.*"
   ]
  },
  {
   "cell_type": "code",
   "execution_count": 9,
   "metadata": {
    "collapsed": true
   },
   "outputs": [],
   "source": [
    "from sklearn.feature_extraction.text import TfidfVectorizer\n",
    "\n",
    "def answer_four():\n",
    "    \n",
    "    # Extracts the tokens of the text (vocabulary as list) but with tfidf\n",
    "    tf_token_model = TfidfVectorizer(min_df = 1).fit(X_train)\n",
    "    tf_tokens = tf_token_model.get_feature_names()\n",
    "    \n",
    "    # Creates matrix with texts as rows (records) and tokens as columns (features)\n",
    "    X_train_tokenized = tf_token_model.transform(X_train)\n",
    "    \n",
    "    # TDIDF values, tokens (feature names), index of ascending sorted array by tfidf values \n",
    "    tfidf_values = X_train_tokenized.max(axis=0).toarray()[0]\n",
    "    feature_names = np.array(tf_tokens)\n",
    "    sorted_index = X_train_tokenized.max(axis=0).toarray()[0].argsort()\n",
    "    \n",
    "    \n",
    "    df = pd.DataFrame(data = {'tokens': feature_names,'tfidf_values': tfidf_values})\n",
    "    \n",
    "    # Smallest\n",
    "    df = df.sort_values(by=list(df.columns)) # Ascending\n",
    "    smallest_series = pd.Series(index = df['tokens'].values, data = df['tfidf_values'].values )[:20] \n",
    "    \n",
    "    # Largest\n",
    "    df = df.sort_values(by=list(df.columns),ascending = [False,True]) # Descending\n",
    "    largest_series = pd.Series(index = df['tokens'].values, data = df['tfidf_values'].values )[:20]\n",
    "\n",
    "    return (smallest_series,largest_series)\n"
   ]
  },
  {
   "cell_type": "code",
   "execution_count": 10,
   "metadata": {},
   "outputs": [
    {
     "data": {
      "text/plain": [
       "(aaniye          0.074475\n",
       " athletic        0.074475\n",
       " chef            0.074475\n",
       " companion       0.074475\n",
       " courageous      0.074475\n",
       " dependable      0.074475\n",
       " determined      0.074475\n",
       " exterminator    0.074475\n",
       " healer          0.074475\n",
       " listener        0.074475\n",
       " organizer       0.074475\n",
       " pest            0.074475\n",
       " psychiatrist    0.074475\n",
       " psychologist    0.074475\n",
       " pudunga         0.074475\n",
       " stylist         0.074475\n",
       " sympathetic     0.074475\n",
       " venaam          0.074475\n",
       " afternoons      0.091250\n",
       " approaching     0.091250\n",
       " dtype: float64, 146tf150p    1.000000\n",
       " 645          1.000000\n",
       " anything     1.000000\n",
       " anytime      1.000000\n",
       " beerage      1.000000\n",
       " done         1.000000\n",
       " er           1.000000\n",
       " havent       1.000000\n",
       " home         1.000000\n",
       " lei          1.000000\n",
       " nite         1.000000\n",
       " ok           1.000000\n",
       " okie         1.000000\n",
       " thank        1.000000\n",
       " thanx        1.000000\n",
       " too          1.000000\n",
       " where        1.000000\n",
       " yup          1.000000\n",
       " tick         0.980166\n",
       " blank        0.932702\n",
       " dtype: float64)"
      ]
     },
     "execution_count": 10,
     "metadata": {},
     "output_type": "execute_result"
    }
   ],
   "source": [
    "#answer_four().shape\n",
    "answer_four()"
   ]
  },
  {
   "cell_type": "markdown",
   "metadata": {},
   "source": [
    "### Question 5\n",
    "\n",
    "Fit and transform the training data `X_train` using a Tfidf Vectorizer ignoring terms that have a document frequency strictly lower than **3**.\n",
    "\n",
    "Then fit a multinomial Naive Bayes classifier model with smoothing `alpha=0.1` and compute the area under the curve (AUC) score using the transformed test data.\n",
    "\n",
    "*This function should return the AUC score as a float.*"
   ]
  },
  {
   "cell_type": "code",
   "execution_count": 11,
   "metadata": {
    "collapsed": true
   },
   "outputs": [],
   "source": [
    "def answer_five():\n",
    "    \n",
    "    # Extracts the tokens of the text (vocabulary as list) but with tfidf\n",
    "    tf_token_model = TfidfVectorizer(min_df = 3).fit(X_train)\n",
    "    tf_tokens = tf_token_model.get_feature_names()\n",
    "    \n",
    "    # Creates matrix with texts as rows (records) and tokens as columns (features)\n",
    "    X_train_tokenized = tf_token_model.transform(X_train)\n",
    "    \n",
    "    # Model Fitting\n",
    "    clf = MultinomialNB(alpha=0.1)\n",
    "    clf.fit(X_train_tokenized,y_train)\n",
    "    \n",
    "    y_predicted = clf.predict(tf_token_model.transform(X_test))\n",
    "    \n",
    "    return roc_auc_score(y_test,y_predicted)"
   ]
  },
  {
   "cell_type": "code",
   "execution_count": 12,
   "metadata": {},
   "outputs": [
    {
     "data": {
      "text/plain": [
       "0.94162436548223349"
      ]
     },
     "execution_count": 12,
     "metadata": {},
     "output_type": "execute_result"
    }
   ],
   "source": [
    "answer_five()"
   ]
  },
  {
   "cell_type": "markdown",
   "metadata": {},
   "source": [
    "### Question 6\n",
    "\n",
    "What is the average length of documents (number of characters) for not spam and spam documents?\n",
    "\n",
    "*This function should return a tuple (average length not spam, average length spam).*"
   ]
  },
  {
   "cell_type": "code",
   "execution_count": 13,
   "metadata": {
    "collapsed": true
   },
   "outputs": [],
   "source": [
    "def answer_six():\n",
    "    \n",
    "    avg_spam = spam_data[ spam_data['target'] == 1 ]['text'].apply(len).mean()\n",
    "    avg_not_spam = spam_data[ spam_data['target'] == 0 ]['text'].apply(len).mean()\n",
    "    \n",
    "    return (avg_not_spam,avg_spam)"
   ]
  },
  {
   "cell_type": "code",
   "execution_count": 14,
   "metadata": {},
   "outputs": [
    {
     "data": {
      "text/plain": [
       "(71.023626943005183, 138.8661311914324)"
      ]
     },
     "execution_count": 14,
     "metadata": {},
     "output_type": "execute_result"
    }
   ],
   "source": [
    "answer_six()"
   ]
  },
  {
   "cell_type": "markdown",
   "metadata": {},
   "source": [
    "<br>\n",
    "<br>\n",
    "The following function has been provided to help you combine new features into the training data:"
   ]
  },
  {
   "cell_type": "code",
   "execution_count": 15,
   "metadata": {
    "collapsed": true
   },
   "outputs": [],
   "source": [
    "def add_feature(X, feature_to_add):\n",
    "    \"\"\"\n",
    "    Returns sparse feature matrix with added feature.\n",
    "    feature_to_add can also be a list of features.\n",
    "    \"\"\"\n",
    "    from scipy.sparse import csr_matrix, hstack\n",
    "    return hstack([X, csr_matrix(feature_to_add).T], 'csr')"
   ]
  },
  {
   "cell_type": "markdown",
   "metadata": {},
   "source": [
    "### Question 7\n",
    "\n",
    "Fit and transform the training data X_train using a Tfidf Vectorizer ignoring terms that have a document frequency strictly lower than **5**.\n",
    "\n",
    "Using this document-term matrix and an additional feature, **the length of document (number of characters)**, fit a Support Vector Classification model with regularization `C=10000`. Then compute the area under the curve (AUC) score using the transformed test data.\n",
    "\n",
    "*This function should return the AUC score as a float.*"
   ]
  },
  {
   "cell_type": "code",
   "execution_count": 16,
   "metadata": {
    "collapsed": true
   },
   "outputs": [],
   "source": [
    "from sklearn.svm import SVC\n",
    "\n",
    "def answer_seven():\n",
    "    \n",
    "     # Extracts the tokens of the text (vocabulary as list) but with tfidf\n",
    "    tf_token_model = TfidfVectorizer(min_df = 5).fit(X_train)\n",
    "    tf_tokens = tf_token_model.get_feature_names()\n",
    "    \n",
    "    # Creates matrix with texts as rows (records) and tokens as columns (features)\n",
    "    X_train_tokenized = tf_token_model.transform(X_train)\n",
    "    \n",
    "    # Adding new feature\n",
    "    new_feature = X_train.apply(len)\n",
    "    X_train_tokenized = add_feature(X_train_tokenized,new_feature)\n",
    "    X_test_tokenized = add_feature(tf_token_model.transform(X_test), X_test.apply(len))\n",
    "    \n",
    "    # Model fitting\n",
    "    clf = SVC(C=10e5)\n",
    "    clf.fit(X_train_tokenized,y_train)\n",
    "    \n",
    "    y_predicted = clf.predict(X_test_tokenized)\n",
    "    \n",
    "    \n",
    "    return roc_auc_score(y_test,y_predicted)"
   ]
  },
  {
   "cell_type": "code",
   "execution_count": 17,
   "metadata": {},
   "outputs": [
    {
     "data": {
      "text/plain": [
       "0.95813668234215565"
      ]
     },
     "execution_count": 17,
     "metadata": {},
     "output_type": "execute_result"
    }
   ],
   "source": [
    "answer_seven()"
   ]
  },
  {
   "cell_type": "markdown",
   "metadata": {},
   "source": [
    "### Question 8\n",
    "\n",
    "What is the average number of digits per document for not spam and spam documents?\n",
    "\n",
    "*This function should return a tuple (average # digits not spam, average # digits spam).*"
   ]
  },
  {
   "cell_type": "code",
   "execution_count": 18,
   "metadata": {
    "collapsed": true
   },
   "outputs": [],
   "source": [
    "def answer_eight():\n",
    "    import re\n",
    "    \n",
    "    avg_spam = spam_data[spam_data['target'] == 1 ]['text'].apply(lambda row: len(re.findall(r'\\d',row))).mean()\n",
    "    avg_not_spam = spam_data[spam_data['target'] == 0 ]['text'].apply(lambda row: len(re.findall(r'\\d',row))).mean()\n",
    "    \n",
    "    return (avg_not_spam,avg_spam)"
   ]
  },
  {
   "cell_type": "code",
   "execution_count": 19,
   "metadata": {},
   "outputs": [
    {
     "data": {
      "text/plain": [
       "(0.29927461139896372, 15.759036144578314)"
      ]
     },
     "execution_count": 19,
     "metadata": {},
     "output_type": "execute_result"
    }
   ],
   "source": [
    "answer_eight()"
   ]
  },
  {
   "cell_type": "markdown",
   "metadata": {},
   "source": [
    "### Question 9\n",
    "\n",
    "Fit and transform the training data `X_train` using a Tfidf Vectorizer ignoring terms that have a document frequency strictly lower than **5** and using **word n-grams from n=1 to n=3** (unigrams, bigrams, and trigrams).\n",
    "\n",
    "Using this document-term matrix and the following additional features:\n",
    "* the length of document (number of characters)\n",
    "* **number of digits per document**\n",
    "\n",
    "fit a Logistic Regression model with regularization `C=100`. Then compute the area under the curve (AUC) score using the transformed test data.\n",
    "\n",
    "*This function should return the AUC score as a float.*"
   ]
  },
  {
   "cell_type": "code",
   "execution_count": 20,
   "metadata": {
    "collapsed": true
   },
   "outputs": [],
   "source": [
    "from sklearn.linear_model import LogisticRegression\n",
    "\n",
    "def answer_nine():\n",
    "    \n",
    "    import re\n",
    "     # Extracts the tokens of the text (vocabulary as list) but with tfidf\n",
    "    tf_token_model = TfidfVectorizer(min_df = 5, ngram_range=(1,3)).fit(X_train)\n",
    "    tf_tokens = tf_token_model.get_feature_names()\n",
    "    \n",
    "    # Creates matrix with texts as rows (records) and tokens as columns (features)\n",
    "    X_train_tokenized = tf_token_model.transform(X_train)\n",
    "    X_test_tokenized = tf_token_model.transform(X_test)\n",
    "    \n",
    "    # Adding new feature\n",
    "    \n",
    "    # Training\n",
    "    n_digits = X_train.apply(lambda row: len(re.findall(r'\\d',row)))\n",
    "    new_features = [X_train.apply(len), n_digits ]\n",
    "    X_train_tokenized = add_feature(X_train_tokenized,new_features)\n",
    "    \n",
    "    #Test\n",
    "    n_digits = X_test.apply(lambda row: len(re.findall(r'\\d',row)))\n",
    "    new_features = [X_test.apply(len), n_digits]\n",
    "    X_test_tokenized = add_feature(X_test_tokenized, new_features)\n",
    "    \n",
    "    # Model fitting\n",
    "    clf = LogisticRegression(C=100)\n",
    "    clf.fit(X_train_tokenized,y_train)\n",
    "    \n",
    "    y_predicted = clf.predict(X_test_tokenized)\n",
    "    \n",
    "    \n",
    "    return roc_auc_score(y_test,y_predicted)"
   ]
  },
  {
   "cell_type": "code",
   "execution_count": 21,
   "metadata": {},
   "outputs": [
    {
     "data": {
      "text/plain": [
       "0.96533283533945646"
      ]
     },
     "execution_count": 21,
     "metadata": {},
     "output_type": "execute_result"
    }
   ],
   "source": [
    "answer_nine()"
   ]
  },
  {
   "cell_type": "markdown",
   "metadata": {},
   "source": [
    "### Question 10\n",
    "\n",
    "What is the average number of non-word characters (anything other than a letter, digit or underscore) per document for not spam and spam documents?\n",
    "\n",
    "*Hint: Use `\\w` and `\\W` character classes*\n",
    "\n",
    "*This function should return a tuple (average # non-word characters not spam, average # non-word characters spam).*"
   ]
  },
  {
   "cell_type": "code",
   "execution_count": 22,
   "metadata": {
    "collapsed": true
   },
   "outputs": [],
   "source": [
    "def answer_ten():\n",
    "    import re\n",
    "    \n",
    "    avg_spam = spam_data[spam_data['target'] == 1 ]['text'].apply(lambda row: len(re.findall(r'\\W',row))).mean()\n",
    "    avg_not_spam = spam_data[spam_data['target'] == 0 ]['text'].apply(lambda row: len(re.findall(r'\\W',row))).mean()\n",
    "    \n",
    "    return (avg_not_spam,avg_spam)"
   ]
  },
  {
   "cell_type": "code",
   "execution_count": 23,
   "metadata": {},
   "outputs": [
    {
     "data": {
      "text/plain": [
       "(17.291813471502589, 29.041499330655956)"
      ]
     },
     "execution_count": 23,
     "metadata": {},
     "output_type": "execute_result"
    }
   ],
   "source": [
    "answer_ten()"
   ]
  },
  {
   "cell_type": "markdown",
   "metadata": {},
   "source": [
    "### Question 11\n",
    "\n",
    "Fit and transform the training data X_train using a Count Vectorizer ignoring terms that have a document frequency strictly lower than **5** and using **character n-grams from n=2 to n=5.**\n",
    "\n",
    "To tell Count Vectorizer to use character n-grams pass in `analyzer='char_wb'` which creates character n-grams only from text inside word boundaries. This should make the model more robust to spelling mistakes.\n",
    "\n",
    "Using this document-term matrix and the following additional features:\n",
    "* the length of document (number of characters)\n",
    "* number of digits per document\n",
    "* **number of non-word characters (anything other than a letter, digit or underscore.)**\n",
    "\n",
    "fit a Logistic Regression model with regularization C=100. Then compute the area under the curve (AUC) score using the transformed test data.\n",
    "\n",
    "Also **find the 10 smallest and 10 largest coefficients from the model** and return them along with the AUC score in a tuple.\n",
    "\n",
    "The list of 10 smallest coefficients should be sorted smallest first, the list of 10 largest coefficients should be sorted largest first.\n",
    "\n",
    "The three features that were added to the document term matrix should have the following names should they appear in the list of coefficients:\n",
    "['length_of_doc', 'digit_count', 'non_word_char_count']\n",
    "\n",
    "*This function should return a tuple `(AUC score as a float, smallest coefs list, largest coefs list)`.*"
   ]
  },
  {
   "cell_type": "code",
   "execution_count": 26,
   "metadata": {
    "collapsed": true
   },
   "outputs": [],
   "source": [
    "def answer_eleven():\n",
    "    \n",
    "    import pandas as pd\n",
    "    import re\n",
    "    # Extracts the tokens of the text (vocabulary as list) but with tfidf\n",
    "    token_model = CountVectorizer(min_df = 5, ngram_range=(2,5),analyzer = 'char_wb').fit(X_train)\n",
    "    tokens = token_model.get_feature_names()\n",
    "    \n",
    "    # Creates matrix with texts as rows (records) and tokens as columns (features)\n",
    "    X_train_tokenized = token_model.transform(X_train)\n",
    "    X_test_tokenized = token_model.transform(X_test)\n",
    "    \n",
    "    # Adding new features\n",
    "    \n",
    "    new_features_names = ['length_of_doc', 'digit_count', 'non_word_char_count']\n",
    "    # Training\n",
    "    n_digits = X_train.apply(lambda row: len(re.findall(r'\\d',row)))\n",
    "    n_non_words = X_train.apply(lambda row: len(re.findall(r'\\W',row)))\n",
    "    new_features = [X_train.apply(len), n_digits,n_non_words]\n",
    "    X_train_tokenized = add_feature(X_train_tokenized,new_features)\n",
    "    \n",
    "    #Test\n",
    "    n_digits = X_test.apply(lambda row: len(re.findall(r'\\d',row)))\n",
    "    n_non_words = X_test.apply(lambda row: len(re.findall(r'\\W',row)))\n",
    "    new_features = [X_test.apply(len), n_digits,n_non_words]\n",
    "    X_test_tokenized = add_feature(X_test_tokenized, new_features)\n",
    "    \n",
    "    \n",
    "    # Model fitting\n",
    "    clf = LogisticRegression(C=100)\n",
    "    clf.fit(X_train_tokenized,y_train)\n",
    "    \n",
    "    y_predicted = clf.predict(X_test_tokenized)\n",
    "    roc_score = roc_auc_score(y_test,y_predicted)\n",
    "    \n",
    "    # Features & Coefficients\n",
    "    coefs = clf.coef_[0]\n",
    "    \n",
    "    features = tokens + new_features_names\n",
    "    features_df = pd.DataFrame(data = {'features': features , 'coefficients': coefs}).sort_values(by='coefficients')\n",
    "    \n",
    "    smallest_series = features_df.set_index('features')['coefficients'][:10]\n",
    "    largest_series = features_df.set_index('features')['coefficients'][-10:][::-1]\n",
    "    \n",
    "    return (roc_score,smallest_series,largest_series)"
   ]
  },
  {
   "cell_type": "code",
   "execution_count": 27,
   "metadata": {},
   "outputs": [
    {
     "data": {
      "text/plain": [
       "(0.97885931107074342, features\n",
       " .     -0.869753\n",
       " ..    -0.860883\n",
       " ?     -0.676982\n",
       "  i    -0.667004\n",
       "  y    -0.614901\n",
       "  go   -0.579590\n",
       " :)    -0.535074\n",
       "  h    -0.505766\n",
       " go    -0.498507\n",
       "  m    -0.490960\n",
       " Name: coefficients, dtype: float64, features\n",
       " digit_count    1.212230\n",
       " ne             0.597778\n",
       " ia             0.541483\n",
       " co             0.538766\n",
       " xt             0.521487\n",
       "  ch            0.520351\n",
       " mob            0.517868\n",
       "  x             0.516096\n",
       " ww             0.508671\n",
       " ar             0.502644\n",
       " Name: coefficients, dtype: float64)"
      ]
     },
     "execution_count": 27,
     "metadata": {},
     "output_type": "execute_result"
    }
   ],
   "source": [
    "answer_eleven()"
   ]
  }
 ],
 "metadata": {
  "coursera": {
   "course_slug": "python-text-mining",
   "graded_item_id": "Pn19K",
   "launcher_item_id": "y1juS",
   "part_id": "ctlgo"
  },
  "kernelspec": {
   "display_name": "Python 3",
   "language": "python",
   "name": "python3"
  },
  "language_info": {
   "codemirror_mode": {
    "name": "ipython",
    "version": 3
   },
   "file_extension": ".py",
   "mimetype": "text/x-python",
   "name": "python",
   "nbconvert_exporter": "python",
   "pygments_lexer": "ipython3",
   "version": "3.6.2"
  }
 },
 "nbformat": 4,
 "nbformat_minor": 2
}
