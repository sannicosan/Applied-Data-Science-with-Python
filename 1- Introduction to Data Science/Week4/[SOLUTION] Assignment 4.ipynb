{
 "cells": [
  {
   "cell_type": "markdown",
   "metadata": {},
   "source": [
    "---\n",
    "\n",
    "_You are currently looking at **version 1.1** of this notebook. To download notebooks and datafiles, as well as get help on Jupyter notebooks in the Coursera platform, visit the [Jupyter Notebook FAQ](https://www.coursera.org/learn/python-data-analysis/resources/0dhYG) course resource._\n",
    "\n",
    "---"
   ]
  },
  {
   "cell_type": "code",
   "execution_count": 1,
   "metadata": {
    "collapsed": true
   },
   "outputs": [],
   "source": [
    "import pandas as pd\n",
    "import numpy as np\n",
    "from scipy.stats import ttest_ind\n",
    "import re"
   ]
  },
  {
   "cell_type": "markdown",
   "metadata": {},
   "source": [
    "# Assignment 4 - Hypothesis Testing\n",
    "This assignment requires more individual learning than previous assignments - you are encouraged to check out the [pandas documentation](http://pandas.pydata.org/pandas-docs/stable/) to find functions or methods you might not have used yet, or ask questions on [Stack Overflow](http://stackoverflow.com/) and tag them as pandas and python related. And of course, the discussion forums are open for interaction with your peers and the course staff.\n",
    "\n",
    "Definitions:\n",
    "* A _quarter_ is a specific three month period, Q1 is January through March, Q2 is April through June, Q3 is July through September, Q4 is October through December.\n",
    "* A _recession_ is defined as starting with two consecutive quarters of GDP decline, and ending with two consecutive quarters of GDP growth.\n",
    "* A _recession bottom_ is the quarter within a recession which had the lowest GDP.\n",
    "* A _university town_ is a city which has a high percentage of university students compared to the total population of the city.\n",
    "\n",
    "**Hypothesis**: University towns have their mean housing prices less effected by recessions. Run a t-test to compare the ratio of the mean price of houses in university towns the quarter before the recession starts compared to the recession bottom. (`price_ratio=quarter_before_recession/recession_bottom`)\n",
    "\n",
    "The following data files are available for this assignment:\n",
    "* From the [Zillow research data site](http://www.zillow.com/research/data/) there is housing data for the United States. In particular the datafile for [all homes at a city level](http://files.zillowstatic.com/research/public/City/City_Zhvi_AllHomes.csv), ```City_Zhvi_AllHomes.csv```, has median home sale prices at a fine grained level.\n",
    "* From the Wikipedia page on college towns is a list of [university towns in the United States](https://en.wikipedia.org/wiki/List_of_college_towns#College_towns_in_the_United_States) which has been copy and pasted into the file ```university_towns.txt```.\n",
    "* From Bureau of Economic Analysis, US Department of Commerce, the [GDP over time](http://www.bea.gov/national/index.htm#gdp) of the United States in current dollars (use the chained value in 2009 dollars), in quarterly intervals, in the file ```gdplev.xls```. For this assignment, only look at GDP data from the first quarter of 2000 onward.\n",
    "\n",
    "Each function in this assignment below is worth 10%, with the exception of ```run_ttest()```, which is worth 50%."
   ]
  },
  {
   "cell_type": "code",
   "execution_count": 2,
   "metadata": {
    "collapsed": true
   },
   "outputs": [],
   "source": [
    "# Use this dictionary to map state names to two letter acronyms\n",
    "states = {'OH': 'Ohio', 'KY': 'Kentucky', 'AS': 'American Samoa', 'NV': 'Nevada', 'WY': 'Wyoming', 'NA': 'National', 'AL': 'Alabama', 'MD': 'Maryland', 'AK': 'Alaska', 'UT': 'Utah', 'OR': 'Oregon', 'MT': 'Montana', 'IL': 'Illinois', 'TN': 'Tennessee', 'DC': 'District of Columbia', 'VT': 'Vermont', 'ID': 'Idaho', 'AR': 'Arkansas', 'ME': 'Maine', 'WA': 'Washington', 'HI': 'Hawaii', 'WI': 'Wisconsin', 'MI': 'Michigan', 'IN': 'Indiana', 'NJ': 'New Jersey', 'AZ': 'Arizona', 'GU': 'Guam', 'MS': 'Mississippi', 'PR': 'Puerto Rico', 'NC': 'North Carolina', 'TX': 'Texas', 'SD': 'South Dakota', 'MP': 'Northern Mariana Islands', 'IA': 'Iowa', 'MO': 'Missouri', 'CT': 'Connecticut', 'WV': 'West Virginia', 'SC': 'South Carolina', 'LA': 'Louisiana', 'KS': 'Kansas', 'NY': 'New York', 'NE': 'Nebraska', 'OK': 'Oklahoma', 'FL': 'Florida', 'CA': 'California', 'CO': 'Colorado', 'PA': 'Pennsylvania', 'DE': 'Delaware', 'NM': 'New Mexico', 'RI': 'Rhode Island', 'MN': 'Minnesota', 'VI': 'Virgin Islands', 'NH': 'New Hampshire', 'MA': 'Massachusetts', 'GA': 'Georgia', 'ND': 'North Dakota', 'VA': 'Virginia'}"
   ]
  },
  {
   "cell_type": "markdown",
   "metadata": {},
   "source": [
    "# Datasets"
   ]
  },
  {
   "cell_type": "code",
   "execution_count": 3,
   "metadata": {
    "umich_part_id": "021",
    "umich_partlist_id": "004"
   },
   "outputs": [],
   "source": [
    "def get_list_of_university_towns():\n",
    "    '''Returns a DataFrame of towns and the states they are in from the \n",
    "    university_towns.txt list. The format of the DataFrame should be:\n",
    "    DataFrame( [ [\"Michigan\", \"Ann Arbor\"], [\"Michigan\", \"Yipsilanti\"] ], \n",
    "    columns=[\"State\", \"RegionName\"]  )\n",
    "    \n",
    "    The following cleaning needs to be done:\n",
    "\n",
    "    1. For \"State\", removing characters from \"[\" to the end.\n",
    "    2. For \"RegionName\", when applicable, removing every character from \" (\" to the end.\n",
    "    3. Depending on how you read the data, you may need to remove newline character '\\n'. '''\n",
    "    \n",
    " # State names Extraction\n",
    "    U_States=pd.read_csv('university_towns.txt',sep='\\n',header=None)[0]\n",
    "    states_drop=U_States[U_States.str.contains('edit')] # States extraction: 'State[edit]'\n",
    "    states=states_drop.map(lambda s: s[:-6])            # drop '[edit]'\n",
    "    states.name='State'\n",
    "    States=pd.Series(np.zeros(U_States.size),name=\"State\").map(lambda x: np.nan)\n",
    "    States[states.index]=states\n",
    "    States.ffill(inplace=True)\n",
    "    #print(States)\n",
    "\n",
    "    # Town Name Extraction\n",
    "    U_Towns=pd.read_csv('university_towns.txt',sep='\\n',header=None).drop(states_drop.index)[0].str.split(' \\(').map(lambda r: r[0])\n",
    "    U_Towns.name='RegionName'\n",
    "    #print(U_Towns)\n",
    "\n",
    "    # University Towns DataFrame\n",
    "    U_df=pd.DataFrame([States,U_Towns]).T.drop(states_drop.index)#.set_index(['State','RegionName'])\n",
    "    return U_df"
   ]
  },
  {
   "cell_type": "code",
   "execution_count": 4,
   "metadata": {},
   "outputs": [],
   "source": [
    "#get_list_of_university_towns()"
   ]
  },
  {
   "cell_type": "code",
   "execution_count": 5,
   "metadata": {
    "umich_part_id": "022",
    "umich_partlist_id": "004"
   },
   "outputs": [],
   "source": [
    "def get_recession_start():\n",
    "    '''Returns the year and quarter of the recession start time as a \n",
    "    string value in a format such as 2005q3'''\n",
    "  \n",
    "    def get_GDP():\n",
    "        ## GDP Dataset\n",
    "        GDP=pd.read_excel('gdplev.xls',header=5,parse_cols='E:G').reset_index()\n",
    "        GDP=GDP.rename(columns={str(GDP.columns[0]):'Quarter'}).set_index('Quarter')\n",
    "        GDP=GDP.iloc[GDP.index.get_loc('2000q1'):]   \n",
    "        GDP.columns=GDP.columns.map(lambda c: re.sub(r'[^a-zA-Z\\s209]+',\"\",c))\n",
    "        return GDP\n",
    "    \n",
    "    df=get_GDP().drop(get_GDP().columns[0],axis=1)\n",
    "    rec=[]\n",
    "    index=0\n",
    "    while index < (len(df)-2):\n",
    "        q0=df.iloc[index].values[0]\n",
    "        q1=df.iloc[index+1].values[0]\n",
    "        q2=df.iloc[index+2].values[0]\n",
    "    ## Para determinar el inicio de una recesión solo se compara el ciclo actual y los dos siguientes:    \n",
    "        if(q1<q0 and q2<q1):\n",
    "            rec.append(index)\n",
    "        index+=3\n",
    "        \n",
    "    return df.iloc[rec].iloc[0].name"
   ]
  },
  {
   "cell_type": "code",
   "execution_count": 6,
   "metadata": {},
   "outputs": [],
   "source": [
    "#get_recession_start()"
   ]
  },
  {
   "cell_type": "code",
   "execution_count": 7,
   "metadata": {
    "collapsed": true,
    "umich_part_id": "023",
    "umich_partlist_id": "004"
   },
   "outputs": [],
   "source": [
    "def get_recession_end():\n",
    "    '''Returns the year and quarter of the recession end time as a \n",
    "    string value in a format such as 2005q3'''\n",
    "    \n",
    "    def get_GDP():\n",
    "        ## GDP Dataset\n",
    "        GDP=pd.read_excel('gdplev.xls',header=5,parse_cols='E:G').reset_index()\n",
    "        GDP=GDP.rename(columns={str(GDP.columns[0]):'Quarter'}).set_index('Quarter')\n",
    "        GDP=GDP.iloc[GDP.index.get_loc('2000q1'):]   \n",
    "        GDP.columns=GDP.columns.map(lambda c: re.sub(r'[^a-zA-Z\\s209]+',\"\",c))\n",
    "        return GDP\n",
    "    \n",
    "    df=get_GDP().drop(get_GDP().columns[0],axis=1)\n",
    "    index=df.index.get_loc(get_recession_start())\n",
    "    rec=[]\n",
    "    while index < (len(df)-2):\n",
    "        q0=df.iloc[index].values[0]\n",
    "        q1=df.iloc[index+1].values[0]\n",
    "        q2=df.iloc[index+2].values[0]\n",
    "        if(q1>q0 and q2>q1): \n",
    "            rec.append(index)\n",
    "        index+=3\n",
    "        \n",
    "    return df.iloc[rec].iloc[0].name"
   ]
  },
  {
   "cell_type": "code",
   "execution_count": 8,
   "metadata": {},
   "outputs": [],
   "source": [
    "#get_recession_end()"
   ]
  },
  {
   "cell_type": "code",
   "execution_count": 9,
   "metadata": {
    "collapsed": true,
    "umich_part_id": "024",
    "umich_partlist_id": "004"
   },
   "outputs": [],
   "source": [
    "def get_recession_bottom():\n",
    "    '''Returns the year and quarter of the recession bottom time as a \n",
    "    string value in a format such as 2005q3'''\n",
    "    \n",
    "    def get_GDP():\n",
    "        ## GDP Dataset\n",
    "        GDP=pd.read_excel('gdplev.xls',header=5,parse_cols='E:G').reset_index()\n",
    "        GDP=GDP.rename(columns={str(GDP.columns[0]):'Quarter'}).set_index('Quarter')\n",
    "        GDP=GDP.iloc[GDP.index.get_loc('2000q1'):]   \n",
    "        GDP.columns=GDP.columns.map(lambda c: re.sub(r'[^a-zA-Z\\s209]+',\"\",c))\n",
    "        return GDP\n",
    "    \n",
    "    df=get_GDP().drop(get_GDP().columns[0],axis=1)\n",
    "    bottom_index=df.index.get_loc(get_recession_end())-2\n",
    "    \n",
    "    return df.iloc[bottom_index].name"
   ]
  },
  {
   "cell_type": "code",
   "execution_count": 10,
   "metadata": {},
   "outputs": [],
   "source": [
    "#get_recession_bottom()"
   ]
  },
  {
   "cell_type": "code",
   "execution_count": 11,
   "metadata": {
    "umich_part_id": "025",
    "umich_partlist_id": "004"
   },
   "outputs": [],
   "source": [
    "def convert_housing_data_to_quarters():\n",
    "    '''Converts the housing data to quarters and returns it as mean \n",
    "    values in a dataframe. This dataframe should be a dataframe with\n",
    "    columns for 2000q1 through 2016q3, and should have a multi-index\n",
    "    in the shape of [\"State\",\"RegionName\"].\n",
    "    \n",
    "    Note: Quarters are defined in the assignment description, they are\n",
    "    not arbitrary three month periods.\n",
    "    \n",
    "    The resulting dataframe should have 67 columns, and 10,730 rows.\n",
    "    '''\n",
    "    def get_house_prices():\n",
    "        houses=pd.read_csv('City_Zhvi_AllHomes.csv')\n",
    "        houses=houses.set_index(['State']).rename(states).set_index('RegionName',append=True).sort_index()\n",
    "        return houses\n",
    "    \n",
    "    df=pd.DataFrame.copy(get_house_prices())\n",
    "    start_quarter=df.columns.get_loc('2000-01')\n",
    "    df_quarter=df.iloc[:,start_quarter:].groupby(np.arange( len(df.iloc[:,start_quarter:].columns) )//3,axis=1).mean()\n",
    "    \n",
    "    init_year=int(df.iloc[:,start_quarter].name[:4])\n",
    "    last_year=int(df.iloc[:,-1].name[:4]) \n",
    "    \n",
    "    df_quarter.columns= [ str(y)+q for y in range(init_year,last_year+1) for q in ['q1','q2','q3','q4'] ] [:-1] #do not return 2016q4\n",
    "    return df_quarter"
   ]
  },
  {
   "cell_type": "code",
   "execution_count": 12,
   "metadata": {},
   "outputs": [],
   "source": [
    "#convert_housing_data_to_quarters()"
   ]
  },
  {
   "cell_type": "code",
   "execution_count": 13,
   "metadata": {
    "collapsed": true,
    "umich_part_id": "026",
    "umich_partlist_id": "004"
   },
   "outputs": [],
   "source": [
    "def run_ttest():\n",
    "    '''First creates new data showing the decline or growth of housing prices\n",
    "    between the recession start and the recession bottom. Then runs a ttest\n",
    "    comparing the university town values to the non-university towns values, \n",
    "    return whether the alternative hypothesis (that the two groups are the same)\n",
    "    is true or not as well as the p-value of the confidence. \n",
    "    \n",
    "    Return the tuple (different, p, better) where different=True if the t-test is\n",
    "    True at a p<0.01 (we reject the null hypothesis), or different=False if \n",
    "    otherwise (we cannot reject the null hypothesis). The variable p should\n",
    "    be equal to the exact p value returned from scipy.stats.ttest_ind(). The\n",
    "    value for better should be either \"university town\" or \"non-university town\"\n",
    "    depending on which has a lower mean price ratio (which is equivilent to a\n",
    "    reduced market loss).'''\n",
    "    \n",
    "    # Recession Period indexes\n",
    "    start = convert_housing_data_to_quarters().columns.get_loc(get_recession_start())\n",
    "    bottom = convert_housing_data_to_quarters().columns.get_loc(get_recession_bottom())\n",
    "    \n",
    "    # House Prices by Quarters DF (only recession period+prior quarter)\n",
    "    house_recession_quarters = convert_housing_data_to_quarters().iloc[:,start-1:bottom+1]\n",
    "    \n",
    "    # Non University Towns Houses Prices (only recession period+prior quarter)\n",
    "    non_U_Towns = house_recession_quarters.drop(get_list_of_university_towns()['RegionName'],level=1)\n",
    "    \n",
    "    # University Towns Houses Prices (only recession period)\n",
    "    U_Towns = get_list_of_university_towns().set_index(['State','RegionName']).merge( house_recession_quarters ,how='inner',left_index=True,right_index=True)\n",
    "\n",
    "    # T-Test (p<0.01 signifcance level)\n",
    "        # Alternative hypothesis: non-U and U Towns are the same (both affected by recession)\n",
    "        # Null hypothesis: non-U and U Towns are the differente (U Towns less affected by recession)\n",
    "        \n",
    "    price_ratio_U = U_Towns.iloc[:,0]/U_Towns.iloc[:,bottom-start+1]\n",
    "    price_ratio_non_U = non_U_Towns.iloc[:,0]/non_U_Towns.iloc[:,bottom-start+1] \n",
    "    [t,p]=ttest_ind(price_ratio_U,price_ratio_non_U,nan_policy='omit')\n",
    "    return (p<0.01,p,'university town' if price_ratio_U.mean()<price_ratio_non_U.mean() else 'non-university town')"
   ]
  },
  {
   "cell_type": "code",
   "execution_count": 14,
   "metadata": {},
   "outputs": [],
   "source": [
    "#run_ttest()"
   ]
  }
 ],
 "metadata": {
  "coursera": {
   "course_slug": "python-data-analysis",
   "graded_item_id": "Il9Fx",
   "launcher_item_id": "TeDW0",
   "part_id": "WGlun"
  },
  "kernelspec": {
   "display_name": "Python 3",
   "language": "python",
   "name": "python3"
  },
  "language_info": {
   "codemirror_mode": {
    "name": "ipython",
    "version": 3
   },
   "file_extension": ".py",
   "mimetype": "text/x-python",
   "name": "python",
   "nbconvert_exporter": "python",
   "pygments_lexer": "ipython3",
   "version": "3.6.2"
  },
  "umich": {
   "id": "Assignment 4",
   "version": "1.1"
  }
 },
 "nbformat": 4,
 "nbformat_minor": 1
}
